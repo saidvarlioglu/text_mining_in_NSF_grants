{
 "cells": [
  {
   "cell_type": "markdown",
   "metadata": {},
   "source": [
    "# NSF Awarded Abstracts Word Frequency Analysis"
   ]
  },
  {
   "cell_type": "markdown",
   "metadata": {},
   "source": [
    "# Seeking For Words of \"Information Technology\" Field in NSF Abstracts"
   ]
  },
  {
   "cell_type": "markdown",
   "metadata": {},
   "source": [
    "# Install Libraries"
   ]
  },
  {
   "cell_type": "code",
   "execution_count": null,
   "metadata": {},
   "outputs": [],
   "source": [
    "#pip install nltk"
   ]
  },
  {
   "cell_type": "code",
   "execution_count": null,
   "metadata": {},
   "outputs": [],
   "source": [
    "#import nltk\n",
    "#nltk.download('punkt') \n",
    "#nltk.download('stopwords') "
   ]
  },
  {
   "cell_type": "code",
   "execution_count": null,
   "metadata": {},
   "outputs": [],
   "source": [
    "#nltk.download('wordnet') "
   ]
  },
  {
   "cell_type": "code",
   "execution_count": null,
   "metadata": {},
   "outputs": [],
   "source": [
    "#pip install plotly"
   ]
  },
  {
   "cell_type": "code",
   "execution_count": null,
   "metadata": {},
   "outputs": [],
   "source": [
    "#pip install cufflinks"
   ]
  },
  {
   "cell_type": "code",
   "execution_count": null,
   "metadata": {},
   "outputs": [],
   "source": [
    "#pip install wordcloud"
   ]
  },
  {
   "cell_type": "markdown",
   "metadata": {},
   "source": [
    "# Load Libraries"
   ]
  },
  {
   "cell_type": "code",
   "execution_count": null,
   "metadata": {},
   "outputs": [],
   "source": [
    "#LOAD LIBRARIES\n",
    "\n",
    "import nltk\n",
    "import numpy as np\n",
    "import pandas as pd\n",
    "import seaborn as sns\n",
    "import matplotlib.pyplot as plt\n",
    "%matplotlib inline\n",
    "from plotly import __version__\n",
    "from plotly.offline import download_plotlyjs, init_notebook_mode, plot, iplot\n",
    "import cufflinks as cf\n",
    "init_notebook_mode(connected=True)\n",
    "cf.go_offline()"
   ]
  },
  {
   "cell_type": "markdown",
   "metadata": {},
   "source": [
    "# Load Data"
   ]
  },
  {
   "cell_type": "code",
   "execution_count": null,
   "metadata": {},
   "outputs": [],
   "source": [
    "#lOAD DATA and CHECK COLUMN NAMES\n",
    "IT = pd.read_csv('NSF_Data.csv')\n",
    "IT.info()\n",
    "\n",
    "#if you wanna use the full data click shared data which is 93mb\n",
    "#https://mailuc-my.sharepoint.com/:x:/g/personal/varlioms_mail_uc_edu/EeP20yU2lQlGn3_wZf8L7SoBS2nNho7SGQO7581eaUidJg?e=kg76th"
   ]
  },
  {
   "cell_type": "markdown",
   "metadata": {},
   "source": [
    "# List Column Names"
   ]
  },
  {
   "cell_type": "code",
   "execution_count": null,
   "metadata": {},
   "outputs": [],
   "source": [
    "list(IT.columns.values.tolist()) "
   ]
  },
  {
   "cell_type": "markdown",
   "metadata": {},
   "source": [
    "# Sample Abstract"
   ]
  },
  {
   "cell_type": "code",
   "execution_count": null,
   "metadata": {},
   "outputs": [],
   "source": [
    "IT['Abstract'].iloc[1]"
   ]
  },
  {
   "cell_type": "markdown",
   "metadata": {},
   "source": [
    "# OPTIONAL SECTIONS"
   ]
  },
  {
   "cell_type": "markdown",
   "metadata": {},
   "source": [
    "# Load All Abstracts"
   ]
  },
  {
   "cell_type": "code",
   "execution_count": null,
   "metadata": {},
   "outputs": [],
   "source": [
    "Abstracts = []\n",
    "Filter = IT[IT['Year']>1986]\n",
    "\n",
    "for i in range (0,len(Filter)):\n",
    "    Abstracts.append(Filter['Abstract'].iloc[i])\n",
    "    \n",
    "print(len(Abstracts), \" All Abstracts have been listed\")"
   ]
  },
  {
   "cell_type": "markdown",
   "metadata": {},
   "source": [
    "# or"
   ]
  },
  {
   "cell_type": "markdown",
   "metadata": {},
   "source": [
    "# Load Only IT Abstracts"
   ]
  },
  {
   "cell_type": "code",
   "execution_count": null,
   "metadata": {},
   "outputs": [],
   "source": [
    "Abstracts = []\n",
    "Filter = IT[IT['IT or Not']==1]\n",
    "\n",
    "for i in range (0,len(Filter)):\n",
    "    Abstracts.append(Filter['Abstract'].iloc[i])\n",
    "    \n",
    "print(len(Abstracts), \" IT Abstracts have been listed\")"
   ]
  },
  {
   "cell_type": "markdown",
   "metadata": {},
   "source": [
    "# or"
   ]
  },
  {
   "cell_type": "markdown",
   "metadata": {},
   "source": [
    "# Load NOT IT Abstracts"
   ]
  },
  {
   "cell_type": "code",
   "execution_count": null,
   "metadata": {},
   "outputs": [],
   "source": [
    "Abstracts = []\n",
    "Filter = IT[IT['IT or Not']==0]\n",
    "\n",
    "for i in range (0,len(Filter)):\n",
    "    Abstracts.append(Filter['Abstract'].iloc[i])\n",
    "    \n",
    "print(len(Abstracts), \" Other Abstracts have been listed\")"
   ]
  },
  {
   "cell_type": "markdown",
   "metadata": {},
   "source": [
    "# or"
   ]
  },
  {
   "cell_type": "markdown",
   "metadata": {},
   "source": [
    "# 1987-1990 Period"
   ]
  },
  {
   "cell_type": "code",
   "execution_count": null,
   "metadata": {},
   "outputs": [],
   "source": [
    "Abstracts = []\n",
    "\n",
    "Filter = IT[IT['Year']<1991]\n",
    "\n",
    "for i in range (0,len(Filter)):\n",
    "    Abstracts.append(Filter['Abstract'].iloc[i])\n",
    "print(len(Abstracts), \"Abstracts from 1985-1990 Period have been listed\")"
   ]
  },
  {
   "cell_type": "markdown",
   "metadata": {},
   "source": [
    "# or"
   ]
  },
  {
   "cell_type": "markdown",
   "metadata": {},
   "source": [
    "# 1991-1995 Period"
   ]
  },
  {
   "cell_type": "code",
   "execution_count": null,
   "metadata": {},
   "outputs": [],
   "source": [
    "Abstracts = []\n",
    "\n",
    "Filter = IT[(IT['Year'] > 1990) & (IT['Year'] < 1996)]\n",
    "\n",
    "for i in range (0,len(Filter)):\n",
    "    Abstracts.append(Filter['Abstract'].iloc[i])\n",
    "    \n",
    "print(len(Abstracts), \"Abstracts from 1991-1995 Period have been listed\")"
   ]
  },
  {
   "cell_type": "markdown",
   "metadata": {},
   "source": [
    "# or"
   ]
  },
  {
   "cell_type": "markdown",
   "metadata": {},
   "source": [
    "# 1996-2000 Period"
   ]
  },
  {
   "cell_type": "code",
   "execution_count": null,
   "metadata": {},
   "outputs": [],
   "source": [
    "Abstracts = []\n",
    "\n",
    "Filter = IT[(IT['Year'] > 1995) & (IT['Year'] < 2001)]\n",
    "\n",
    "for i in range (0,len(Filter)):\n",
    "    Abstracts.append(Filter['Abstract'].iloc[i])\n",
    "    \n",
    "print(len(Abstracts), \"Abstracts from 1996-2000 Period have been listed\")"
   ]
  },
  {
   "cell_type": "markdown",
   "metadata": {},
   "source": [
    "# or"
   ]
  },
  {
   "cell_type": "markdown",
   "metadata": {},
   "source": [
    "# 2001-2005 Period"
   ]
  },
  {
   "cell_type": "code",
   "execution_count": null,
   "metadata": {},
   "outputs": [],
   "source": [
    "Abstracts = []\n",
    "\n",
    "Filter = IT[(IT['Year'] > 2000) & (IT['Year'] < 2006)]\n",
    "\n",
    "for i in range (0,len(Filter)):\n",
    "    Abstracts.append(Filter['Abstract'].iloc[i])\n",
    "    \n",
    "print(len(Abstracts), \"Abstracts from 2001-2005 Period have been listed\")"
   ]
  },
  {
   "cell_type": "markdown",
   "metadata": {},
   "source": [
    "# or"
   ]
  },
  {
   "cell_type": "markdown",
   "metadata": {},
   "source": [
    "# 2006-2010 Period"
   ]
  },
  {
   "cell_type": "code",
   "execution_count": null,
   "metadata": {},
   "outputs": [],
   "source": [
    "Abstracts = []\n",
    "\n",
    "Filter = IT[(IT['Year'] > 2005) & (IT['Year'] < 2011)]\n",
    "\n",
    "for i in range (0,len(Filter)):\n",
    "    Abstracts.append(Filter['Abstract'].iloc[i])\n",
    "    \n",
    "print(len(Abstracts), \"Abstracts from 2006-2010 Period have been listed\")"
   ]
  },
  {
   "cell_type": "markdown",
   "metadata": {},
   "source": [
    "# or"
   ]
  },
  {
   "cell_type": "markdown",
   "metadata": {},
   "source": [
    "# 2011-2015 Period"
   ]
  },
  {
   "cell_type": "code",
   "execution_count": null,
   "metadata": {},
   "outputs": [],
   "source": [
    "Abstracts = []\n",
    "\n",
    "Filter = IT[(IT['Year'] > 2010) & (IT['Year'] < 2016)]\n",
    "\n",
    "for i in range (0,len(Filter)):\n",
    "    Abstracts.append(Filter['Abstract'].iloc[i])\n",
    "    \n",
    "print(len(Abstracts), \"Abstracts from 2011-2015 Period have been listed\")"
   ]
  },
  {
   "cell_type": "markdown",
   "metadata": {},
   "source": [
    "# or"
   ]
  },
  {
   "cell_type": "markdown",
   "metadata": {},
   "source": [
    "# 2016-2020 Period"
   ]
  },
  {
   "cell_type": "code",
   "execution_count": null,
   "metadata": {},
   "outputs": [],
   "source": [
    "Abstracts = []\n",
    "\n",
    "Filter = IT[(IT['Year'] > 2015) & (IT['Year'] < 2021)]\n",
    "\n",
    "for i in range (0,len(Filter)):\n",
    "    Abstracts.append(Filter['Abstract'].iloc[i])\n",
    "    \n",
    "print(len(Abstracts), \"Abstracts from 2016-2020 Period have been listed\")"
   ]
  },
  {
   "cell_type": "markdown",
   "metadata": {},
   "source": [
    "# OR"
   ]
  },
  {
   "cell_type": "markdown",
   "metadata": {},
   "source": [
    "# 10 years analysis"
   ]
  },
  {
   "cell_type": "markdown",
   "metadata": {},
   "source": [
    "# 1985-1995 Period"
   ]
  },
  {
   "cell_type": "code",
   "execution_count": null,
   "metadata": {},
   "outputs": [],
   "source": [
    "Abstracts = []\n",
    "\n",
    "Filter = IT[IT['Year']<1996]\n",
    "\n",
    "for i in range (0,len(Filter)):\n",
    "    Abstracts.append(Filter['Abstract'].iloc[i])\n",
    "print(len(Abstracts), \"Abstracts from 1985-1995 Period have been listed\")"
   ]
  },
  {
   "cell_type": "markdown",
   "metadata": {},
   "source": [
    "# 1996-2005 Period"
   ]
  },
  {
   "cell_type": "code",
   "execution_count": null,
   "metadata": {},
   "outputs": [],
   "source": [
    "Abstracts = []\n",
    "\n",
    "Filter = IT[(IT['Year']> 1995) & (IT['Year'] < 2006)]\n",
    "\n",
    "for i in range (0,len(Filter)):\n",
    "    Abstracts.append(Filter['Abstract'].iloc[i])\n",
    "print(len(Abstracts), \"Abstracts from 1987-2000 Period have been listed\")"
   ]
  },
  {
   "cell_type": "markdown",
   "metadata": {},
   "source": [
    "# 2006-2015 Period"
   ]
  },
  {
   "cell_type": "code",
   "execution_count": null,
   "metadata": {},
   "outputs": [],
   "source": [
    "Abstracts = []\n",
    "\n",
    "Filter = IT[(IT['Year']> 2005) & (IT['Year'] < 2016)]\n",
    "\n",
    "for i in range (0,len(Filter)):\n",
    "    Abstracts.append(Filter['Abstract'].iloc[i])\n",
    "print(len(Abstracts), \"Abstracts from 1987-2000 Period have been listed\")"
   ]
  },
  {
   "cell_type": "markdown",
   "metadata": {},
   "source": [
    "# 2015 - 2020 Period"
   ]
  },
  {
   "cell_type": "code",
   "execution_count": null,
   "metadata": {},
   "outputs": [],
   "source": [
    "Abstracts = []\n",
    "\n",
    "Filter = IT[IT['Year']> 2014]\n",
    "\n",
    "for i in range (0,len(Filter)):\n",
    "    Abstracts.append(Filter['Abstract'].iloc[i])\n",
    "print(len(Abstracts), \"Abstracts from 1987-2000 Period have been listed\")"
   ]
  },
  {
   "cell_type": "markdown",
   "metadata": {},
   "source": [
    "# START ANALYSIS"
   ]
  },
  {
   "cell_type": "markdown",
   "metadata": {},
   "source": [
    "# Tokenize Words"
   ]
  },
  {
   "cell_type": "code",
   "execution_count": null,
   "metadata": {},
   "outputs": [],
   "source": [
    "from nltk.tokenize import word_tokenize\n",
    "Abstracts_Tokenized = word_tokenize(str(Abstracts))\n",
    "Abstracts_Tokenized.sort() #sort for efficiency\n",
    "print(len(Abstracts_Tokenized), \" Words of Abstracts have been tokenized\")"
   ]
  },
  {
   "cell_type": "markdown",
   "metadata": {},
   "source": [
    "# Remove Punctuations"
   ]
  },
  {
   "cell_type": "code",
   "execution_count": null,
   "metadata": {},
   "outputs": [],
   "source": [
    "import string\n",
    "Singlelist = \" \".join(Abstracts_Tokenized)\n",
    "Nopunctuation = [k for k in Singlelist if k not in string.punctuation]\n",
    "Words_NoPunc = \"\".join(Nopunctuation)"
   ]
  },
  {
   "cell_type": "markdown",
   "metadata": {},
   "source": [
    "# Remove Numbers"
   ]
  },
  {
   "cell_type": "code",
   "execution_count": null,
   "metadata": {},
   "outputs": [],
   "source": [
    "Words_NoNumber = ''.join(c for c in Words_NoPunc if not c.isdigit())\n",
    "Result_Words = Words_NoNumber.split()"
   ]
  },
  {
   "cell_type": "markdown",
   "metadata": {},
   "source": [
    "# Remove Stopwords"
   ]
  },
  {
   "cell_type": "code",
   "execution_count": null,
   "metadata": {},
   "outputs": [],
   "source": [
    "from nltk.corpus import stopwords  \n",
    "stop_words = set(stopwords.words('english'))\n",
    "Words_NoStop = [word for word in Result_Words if word not in stop_words]\n",
    "print(len(Abstracts_Tokenized) - len(Words_NoStop) , \" stopwords, punctuations, numbers have been erased from data.\")\n",
    "print(\"We have\", len(Words_NoStop), \"words now.\\n\" )\n",
    "\n",
    "print(\"STOPWORDS:\\n\", stopwords.words('english'))"
   ]
  },
  {
   "cell_type": "markdown",
   "metadata": {},
   "source": [
    "# Count Unique Words"
   ]
  },
  {
   "cell_type": "code",
   "execution_count": null,
   "metadata": {},
   "outputs": [],
   "source": [
    "from collections import Counter\n",
    "WordsDict = Counter(Words_NoStop)\n",
    "print(\"We have\", len(WordsDict),\"uniqe words now\",'out of',len(Words_NoStop), \"words in Abstratcs\")"
   ]
  },
  {
   "cell_type": "markdown",
   "metadata": {},
   "source": [
    "# Erase Common & Unrelated Words to Find Specific Words"
   ]
  },
  {
   "cell_type": "code",
   "execution_count": null,
   "metadata": {},
   "outputs": [],
   "source": [
    "#del WordsDict[\"research\"]\n",
    "#del WordsDict[\"researcher\"]\n",
    "#del WordsDict[\"researchers\"]\n",
    "#del WordsDict[\"university\"]\n",
    "#del WordsDict[\"system\"]\n",
    "del WordsDict[\"us\"]\n",
    "del WordsDict[\"make\"]\n",
    "del WordsDict[\"might\"]\n",
    "del WordsDict[\"two\"]\n",
    "del WordsDict[\"way\"]\n",
    "del WordsDict[\"must\"]\n",
    "del WordsDict[\"put\"]\n",
    "del WordsDict[\"use\"]\n",
    "del WordsDict[\"also\"]\n",
    "del WordsDict[\"well\"]\n",
    "del WordsDict[\"this\"]\n",
    "del WordsDict[\"first\"]\n",
    "del WordsDict[\"new\"]\n",
    "#del WordsDict[\"project\"]\n",
    "del WordsDict[\"based\"]\n",
    "#del WordsDict[\"work\"]\n",
    "del WordsDict[\"many\"]\n",
    "#del WordsDict[\"provide\"]\n",
    "#del WordsDict[\"method\"]\n",
    "#del WordsDict[\"methods\"]\n",
    "del WordsDict[\"using\"]\n",
    "del WordsDict[\"including\"]\n",
    "#del WordsDict[\"program\"]\n",
    "#del WordsDict[\"model\"]\n",
    "#del WordsDict[\"models\"]\n",
    "del WordsDict[\"one\"]\n",
    "del WordsDict[\"used\"]\n",
    "del WordsDict[\"may\"]\n",
    "del WordsDict[\"pi\"]\n",
    "del WordsDict[\"the\"]\n",
    "del WordsDict[\"a\"]\n",
    "del WordsDict[\"b\"]\n",
    "del WordsDict[\"c\"]\n",
    "del WordsDict[\"d\"]\n",
    "del WordsDict[\"e\"]\n",
    "del WordsDict[\"f\"]\n",
    "del WordsDict[\"g\"]\n",
    "del WordsDict[\"u\"]\n",
    "del WordsDict[\"second\"]\n",
    "del WordsDict[\"three\"]"
   ]
  },
  {
   "cell_type": "code",
   "execution_count": null,
   "metadata": {},
   "outputs": [],
   "source": [
    "print(\"We have\", len(WordsDict), \"uniqe words now.\" )"
   ]
  },
  {
   "cell_type": "markdown",
   "metadata": {
    "scrolled": true
   },
   "source": [
    "# Create Data Frame"
   ]
  },
  {
   "cell_type": "code",
   "execution_count": null,
   "metadata": {},
   "outputs": [],
   "source": [
    "Data_Frame = pd.DataFrame(list(WordsDict.items()), columns=['Words', 'Frequency']).sort_values(\"Frequency\", ascending=False)"
   ]
  },
  {
   "cell_type": "markdown",
   "metadata": {},
   "source": [
    "# Create iPlot Bar Chart"
   ]
  },
  {
   "cell_type": "code",
   "execution_count": null,
   "metadata": {
    "scrolled": false
   },
   "outputs": [],
   "source": [
    "Data_Frame[:50].iplot( kind=\"bar\", x='Words', title=\"NSF-CISE AWARDED IT ABSTRACTS's FREQUENT WORDS\")"
   ]
  },
  {
   "cell_type": "markdown",
   "metadata": {},
   "source": [
    "# Save Frequency CSV file - Select one of them based on above data"
   ]
  },
  {
   "cell_type": "code",
   "execution_count": null,
   "metadata": {},
   "outputs": [],
   "source": [
    "np.savetxt(\"Result_v1.csv\", Data_Frame, delimiter=\",\", fmt='%s', header=('w,f'))"
   ]
  },
  {
   "cell_type": "markdown",
   "metadata": {},
   "source": [
    "# Descriptive Vizualizations"
   ]
  },
  {
   "cell_type": "code",
   "execution_count": null,
   "metadata": {},
   "outputs": [],
   "source": [
    "IT[IT['Year']>1986][\"Award_Amount_$\"].describe()"
   ]
  },
  {
   "cell_type": "code",
   "execution_count": null,
   "metadata": {},
   "outputs": [],
   "source": [
    "IT['Abstract_Length'] = IT['Abstract'].apply(len)\n",
    "#Creating 'Abstract_Length' column\n",
    "\n",
    "IT[IT['Year']>1986]['Abstract_Length'].describe()"
   ]
  },
  {
   "cell_type": "code",
   "execution_count": null,
   "metadata": {},
   "outputs": [],
   "source": [
    "#Number of Awards by Year\n",
    "\n",
    "IT[IT['Year']<2020].groupby('Year').count()[\"AwardNumber\"].iplot()"
   ]
  },
  {
   "cell_type": "code",
   "execution_count": null,
   "metadata": {},
   "outputs": [],
   "source": [
    "#Sum Amount of Awards by Year\n",
    "\n",
    "IT.groupby('Year').sum()[\"Award_Amount_$\"][:-1].iplot()"
   ]
  },
  {
   "cell_type": "code",
   "execution_count": null,
   "metadata": {},
   "outputs": [],
   "source": [
    "#Sum Amount of Awards by State since 1987\n",
    "\n",
    "IT.groupby('State').sum().sort_values(\"Award_Amount_$\", ascending=False)[\"Award_Amount_$\"].iplot(kind=\"bar\")"
   ]
  },
  {
   "cell_type": "code",
   "execution_count": null,
   "metadata": {},
   "outputs": [],
   "source": [
    "IT['Abstract_Length'] = IT['Abstract'].apply(len)\n",
    "#Creating 'Abstract_Length' column\n",
    "\n",
    "IT['Abstract_Length'].describe()"
   ]
  },
  {
   "cell_type": "code",
   "execution_count": null,
   "metadata": {},
   "outputs": [],
   "source": [
    "#Distribution of 'Abstract_Length'\n",
    "\n",
    "plt.figure(figsize=(20,10))\n",
    "sns.distplot(IT['Abstract_Length'])"
   ]
  },
  {
   "cell_type": "code",
   "execution_count": null,
   "metadata": {},
   "outputs": [],
   "source": [
    "#Mean of Abstract_Length by Year since 1987\n",
    "\n",
    "IT.groupby('Year').mean()['Abstract_Length'].iplot()"
   ]
  },
  {
   "cell_type": "code",
   "execution_count": null,
   "metadata": {},
   "outputs": [],
   "source": []
  }
 ],
 "metadata": {
  "kernelspec": {
   "display_name": "Python 3",
   "language": "python",
   "name": "python3"
  },
  "language_info": {
   "codemirror_mode": {
    "name": "ipython",
    "version": 3
   },
   "file_extension": ".py",
   "mimetype": "text/x-python",
   "name": "python",
   "nbconvert_exporter": "python",
   "pygments_lexer": "ipython3",
   "version": "3.7.3"
  }
 },
 "nbformat": 4,
 "nbformat_minor": 2
}
