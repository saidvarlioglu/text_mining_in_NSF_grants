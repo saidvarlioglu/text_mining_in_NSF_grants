{
 "cells": [
  {
   "cell_type": "markdown",
   "metadata": {},
   "source": [
    "# NSF Awarded Abstracts Word Frequency Analysis"
   ]
  },
  {
   "cell_type": "markdown",
   "metadata": {},
   "source": [
    "# Seeking For Words of \"Information Technology\" Field in NSF Abstracts"
   ]
  },
  {
   "cell_type": "markdown",
   "metadata": {},
   "source": [
    "# Install Libraries"
   ]
  },
  {
   "cell_type": "code",
   "execution_count": null,
   "metadata": {},
   "outputs": [],
   "source": [
    "#pip install nltk"
   ]
  },
  {
   "cell_type": "code",
   "execution_count": null,
   "metadata": {},
   "outputs": [],
   "source": [
    "#import nltk\n",
    "#nltk.download('punkt') \n",
    "#nltk.download('stopwords') "
   ]
  },
  {
   "cell_type": "code",
   "execution_count": null,
   "metadata": {},
   "outputs": [],
   "source": [
    "#nltk.download('wordnet') "
   ]
  },
  {
   "cell_type": "code",
   "execution_count": null,
   "metadata": {},
   "outputs": [],
   "source": [
    "#pip install plotly"
   ]
  },
  {
   "cell_type": "code",
   "execution_count": null,
   "metadata": {},
   "outputs": [],
   "source": [
    "#pip install cufflinks"
   ]
  },
  {
   "cell_type": "code",
   "execution_count": null,
   "metadata": {},
   "outputs": [],
   "source": [
    "#pip install wordcloud"
   ]
  },
  {
   "cell_type": "markdown",
   "metadata": {},
   "source": [
    "# Load Libraries"
   ]
  },
  {
   "cell_type": "code",
   "execution_count": 1,
   "metadata": {},
   "outputs": [
    {
     "data": {
      "text/html": [
       "        <script type=\"text/javascript\">\n",
       "        window.PlotlyConfig = {MathJaxConfig: 'local'};\n",
       "        if (window.MathJax) {MathJax.Hub.Config({SVG: {font: \"STIX-Web\"}});}\n",
       "        if (typeof require !== 'undefined') {\n",
       "        require.undef(\"plotly\");\n",
       "        requirejs.config({\n",
       "            paths: {\n",
       "                'plotly': ['https://cdn.plot.ly/plotly-latest.min']\n",
       "            }\n",
       "        });\n",
       "        require(['plotly'], function(Plotly) {\n",
       "            window._Plotly = Plotly;\n",
       "        });\n",
       "        }\n",
       "        </script>\n",
       "        "
      ]
     },
     "metadata": {},
     "output_type": "display_data"
    },
    {
     "data": {
      "text/html": [
       "        <script type=\"text/javascript\">\n",
       "        window.PlotlyConfig = {MathJaxConfig: 'local'};\n",
       "        if (window.MathJax) {MathJax.Hub.Config({SVG: {font: \"STIX-Web\"}});}\n",
       "        if (typeof require !== 'undefined') {\n",
       "        require.undef(\"plotly\");\n",
       "        requirejs.config({\n",
       "            paths: {\n",
       "                'plotly': ['https://cdn.plot.ly/plotly-latest.min']\n",
       "            }\n",
       "        });\n",
       "        require(['plotly'], function(Plotly) {\n",
       "            window._Plotly = Plotly;\n",
       "        });\n",
       "        }\n",
       "        </script>\n",
       "        "
      ]
     },
     "metadata": {},
     "output_type": "display_data"
    }
   ],
   "source": [
    "#LOAD LIBRARIES\n",
    "\n",
    "import nltk\n",
    "import numpy as np\n",
    "import pandas as pd\n",
    "import seaborn as sns\n",
    "import matplotlib.pyplot as plt\n",
    "%matplotlib inline\n",
    "from plotly import __version__\n",
    "from plotly.offline import download_plotlyjs, init_notebook_mode, plot, iplot\n",
    "import cufflinks as cf\n",
    "init_notebook_mode(connected=True)\n",
    "cf.go_offline()"
   ]
  },
  {
   "cell_type": "markdown",
   "metadata": {},
   "source": [
    "# Load Data"
   ]
  },
  {
   "cell_type": "code",
   "execution_count": 2,
   "metadata": {},
   "outputs": [
    {
     "name": "stdout",
     "output_type": "stream",
     "text": [
      "<class 'pandas.core.frame.DataFrame'>\n",
      "RangeIndex: 40685 entries, 0 to 40684\n",
      "Data columns (total 34 columns):\n",
      "AwardNumber                40685 non-null int64\n",
      "Year                       40685 non-null int64\n",
      "_Technology                40685 non-null int64\n",
      "_Information               40685 non-null int64\n",
      "_People                    40685 non-null int64\n",
      "IT or Not                  40685 non-null int64\n",
      "Program(s)                 40424 non-null object\n",
      "State                      40685 non-null object\n",
      "OrganizationCity           40685 non-null object\n",
      "StartDate                  40685 non-null int64\n",
      "Award_Amount_$             40685 non-null int64\n",
      "Title                      40685 non-null object\n",
      "LastAmendmentDate          40685 non-null int64\n",
      "PrincipalInvestigator      40679 non-null object\n",
      "Organization               40685 non-null object\n",
      "AwardInstrument            40685 non-null object\n",
      "ProgramManager             40608 non-null object\n",
      "EndDate                    40685 non-null int64\n",
      "Co-PIName(s)               14511 non-null object\n",
      "PIEmailAddress             39713 non-null object\n",
      "OrganizationStreet         40515 non-null object\n",
      "OrganizationState          40685 non-null object\n",
      "OrganizationZip            40683 non-null float64\n",
      "OrganizationPhone          40574 non-null object\n",
      "NSFDirectorate             40685 non-null object\n",
      "ProgramElementCode(s)      40645 non-null object\n",
      "ProgramReferenceCode(s)    38701 non-null object\n",
      "ARRAAmount                 40685 non-null int64\n",
      "NSFOrganization            40685 non-null object\n",
      "People                     40685 non-null bool\n",
      "Information                40685 non-null bool\n",
      "Technology                 40685 non-null bool\n",
      "IT_by_Keywords             40685 non-null int64\n",
      "Abstract                   40685 non-null object\n",
      "dtypes: bool(3), float64(1), int64(12), object(18)\n",
      "memory usage: 9.7+ MB\n"
     ]
    },
    {
     "name": "stderr",
     "output_type": "stream",
     "text": [
      "C:\\ProgramData\\Anaconda3\\lib\\site-packages\\IPython\\core\\interactiveshell.py:3057: DtypeWarning:\n",
      "\n",
      "Columns (23) have mixed types. Specify dtype option on import or set low_memory=False.\n",
      "\n"
     ]
    }
   ],
   "source": [
    "#lOAD DATA and CHECK COLUMN NAMES\n",
    "IT = pd.read_csv('NSF_Data.csv')\n",
    "IT.info()"
   ]
  },
  {
   "cell_type": "markdown",
   "metadata": {},
   "source": [
    "# List Column Names"
   ]
  },
  {
   "cell_type": "code",
   "execution_count": 3,
   "metadata": {},
   "outputs": [
    {
     "data": {
      "text/plain": [
       "['AwardNumber',\n",
       " 'Year',\n",
       " '_Technology',\n",
       " '_Information',\n",
       " '_People',\n",
       " 'IT or Not',\n",
       " 'Program(s)',\n",
       " 'State',\n",
       " 'OrganizationCity',\n",
       " 'StartDate',\n",
       " 'Award_Amount_$',\n",
       " 'Title',\n",
       " 'LastAmendmentDate',\n",
       " 'PrincipalInvestigator',\n",
       " 'Organization',\n",
       " 'AwardInstrument',\n",
       " 'ProgramManager',\n",
       " 'EndDate',\n",
       " 'Co-PIName(s)',\n",
       " 'PIEmailAddress',\n",
       " 'OrganizationStreet',\n",
       " 'OrganizationState',\n",
       " 'OrganizationZip',\n",
       " 'OrganizationPhone',\n",
       " 'NSFDirectorate',\n",
       " 'ProgramElementCode(s)',\n",
       " 'ProgramReferenceCode(s)',\n",
       " 'ARRAAmount',\n",
       " 'NSFOrganization',\n",
       " 'People',\n",
       " 'Information',\n",
       " 'Technology',\n",
       " 'IT_by_Keywords',\n",
       " 'Abstract']"
      ]
     },
     "execution_count": 3,
     "metadata": {},
     "output_type": "execute_result"
    }
   ],
   "source": [
    "list(IT.columns.values.tolist()) "
   ]
  },
  {
   "cell_type": "markdown",
   "metadata": {},
   "source": [
    "# Sample Abstract"
   ]
  },
  {
   "cell_type": "code",
   "execution_count": 4,
   "metadata": {},
   "outputs": [
    {
     "data": {
      "text/plain": [
       "'eia 0137720                             grove  deborah rutgers university new brunswick           title   advance fellows   transcription system for real world environment with application to healthcare  amount rec       $ 300 000  project proposed  this proposal  develop a hands  free meeting transcription system along with a remote transcript browsing capability via telephone  will incorporate new microphone array technology for audio capture of speech for high  quality speech recognition  the capture will take place in a realistic office scenario  as required for a transcription application  the research is geared towards develop a patient  centered care system that would allow patients and family members to access office visit information  the system will have a speech interface to a computer for disease management feedback between patient and physician  the main goal consists of develop a meeting transcription system that incorporates microphone array algorithm for sound capture from multiple talkers and speaker identification  the microphone array builds on the past research by the pi for incorporating room response information into array algorithm  the array output will be adaptively determined such that it is robust in environmentally changing rooms and for talker positions not initially calibrated  the transcription research  concerned with parsing dialog to distinguish multiple talkers at a meeting   which may not be stored at the database   will be tested using the physician s office dialog  speaker identification will involve incorporating phonetic knowledge along with keyword content information and talker location to improve the tagging of multiple talkers  performance will be measured with respect to speech recognition result   '"
      ]
     },
     "execution_count": 4,
     "metadata": {},
     "output_type": "execute_result"
    }
   ],
   "source": [
    "IT['Abstract'].iloc[1]"
   ]
  },
  {
   "cell_type": "markdown",
   "metadata": {},
   "source": [
    "# OPTIONAL SECTIONS"
   ]
  },
  {
   "cell_type": "markdown",
   "metadata": {},
   "source": [
    "# Load All Abstracts"
   ]
  },
  {
   "cell_type": "code",
   "execution_count": 5,
   "metadata": {},
   "outputs": [
    {
     "name": "stdout",
     "output_type": "stream",
     "text": [
      "40588  All Abstracts have been listed\n"
     ]
    }
   ],
   "source": [
    "Abstracts = []\n",
    "Filter = IT[IT['Year']>1986]\n",
    "\n",
    "for i in range (0,len(Filter)):\n",
    "    Abstracts.append(Filter['Abstract'].iloc[i])\n",
    "    \n",
    "print(len(Abstracts), \" All Abstracts have been listed\")"
   ]
  },
  {
   "cell_type": "markdown",
   "metadata": {},
   "source": [
    "# or"
   ]
  },
  {
   "cell_type": "markdown",
   "metadata": {},
   "source": [
    "# Load Only IT Abstracts"
   ]
  },
  {
   "cell_type": "code",
   "execution_count": null,
   "metadata": {},
   "outputs": [],
   "source": [
    "Abstracts = []\n",
    "Filter = IT[IT['IT or Not']==1]\n",
    "\n",
    "for i in range (0,len(Filter)):\n",
    "    Abstracts.append(Filter['Abstract'].iloc[i])\n",
    "    \n",
    "print(len(Abstracts), \" IT Abstracts have been listed\")"
   ]
  },
  {
   "cell_type": "markdown",
   "metadata": {},
   "source": [
    "# or"
   ]
  },
  {
   "cell_type": "markdown",
   "metadata": {},
   "source": [
    "# Load NOT IT Abstracts"
   ]
  },
  {
   "cell_type": "code",
   "execution_count": null,
   "metadata": {},
   "outputs": [],
   "source": [
    "Abstracts = []\n",
    "Filter = IT[IT['IT or Not']==0]\n",
    "\n",
    "for i in range (0,len(Filter)):\n",
    "    Abstracts.append(Filter['Abstract'].iloc[i])\n",
    "    \n",
    "print(len(Abstracts), \" Other Abstracts have been listed\")"
   ]
  },
  {
   "cell_type": "markdown",
   "metadata": {},
   "source": [
    "# or"
   ]
  },
  {
   "cell_type": "markdown",
   "metadata": {},
   "source": [
    "# 1987-1990 Period"
   ]
  },
  {
   "cell_type": "code",
   "execution_count": null,
   "metadata": {},
   "outputs": [],
   "source": [
    "Abstracts = []\n",
    "\n",
    "Filter = IT[IT['Year']<1991]\n",
    "\n",
    "for i in range (0,len(Filter)):\n",
    "    Abstracts.append(Filter['Abstract'].iloc[i])\n",
    "print(len(Abstracts), \"Abstracts from 1985-1990 Period have been listed\")"
   ]
  },
  {
   "cell_type": "markdown",
   "metadata": {},
   "source": [
    "# or"
   ]
  },
  {
   "cell_type": "markdown",
   "metadata": {},
   "source": [
    "# 1991-1995 Period"
   ]
  },
  {
   "cell_type": "code",
   "execution_count": null,
   "metadata": {},
   "outputs": [],
   "source": [
    "Abstracts = []\n",
    "\n",
    "Filter = IT[(IT['Year'] > 1990) & (IT['Year'] < 1996)]\n",
    "\n",
    "for i in range (0,len(Filter)):\n",
    "    Abstracts.append(Filter['Abstract'].iloc[i])\n",
    "    \n",
    "print(len(Abstracts), \"Abstracts from 1991-1995 Period have been listed\")"
   ]
  },
  {
   "cell_type": "markdown",
   "metadata": {},
   "source": [
    "# or"
   ]
  },
  {
   "cell_type": "markdown",
   "metadata": {},
   "source": [
    "# 1996-2000 Period"
   ]
  },
  {
   "cell_type": "code",
   "execution_count": null,
   "metadata": {},
   "outputs": [],
   "source": [
    "Abstracts = []\n",
    "\n",
    "Filter = IT[(IT['Year'] > 1995) & (IT['Year'] < 2001)]\n",
    "\n",
    "for i in range (0,len(Filter)):\n",
    "    Abstracts.append(Filter['Abstract'].iloc[i])\n",
    "    \n",
    "print(len(Abstracts), \"Abstracts from 1996-2000 Period have been listed\")"
   ]
  },
  {
   "cell_type": "markdown",
   "metadata": {},
   "source": [
    "# or"
   ]
  },
  {
   "cell_type": "markdown",
   "metadata": {},
   "source": [
    "# 2001-2005 Period"
   ]
  },
  {
   "cell_type": "code",
   "execution_count": null,
   "metadata": {},
   "outputs": [],
   "source": [
    "Abstracts = []\n",
    "\n",
    "Filter = IT[(IT['Year'] > 2000) & (IT['Year'] < 2006)]\n",
    "\n",
    "for i in range (0,len(Filter)):\n",
    "    Abstracts.append(Filter['Abstract'].iloc[i])\n",
    "    \n",
    "print(len(Abstracts), \"Abstracts from 2001-2005 Period have been listed\")"
   ]
  },
  {
   "cell_type": "markdown",
   "metadata": {},
   "source": [
    "# or"
   ]
  },
  {
   "cell_type": "markdown",
   "metadata": {},
   "source": [
    "# 2006-2010 Period"
   ]
  },
  {
   "cell_type": "code",
   "execution_count": null,
   "metadata": {},
   "outputs": [],
   "source": [
    "Abstracts = []\n",
    "\n",
    "Filter = IT[(IT['Year'] > 2005) & (IT['Year'] < 2011)]\n",
    "\n",
    "for i in range (0,len(Filter)):\n",
    "    Abstracts.append(Filter['Abstract'].iloc[i])\n",
    "    \n",
    "print(len(Abstracts), \"Abstracts from 2006-2010 Period have been listed\")"
   ]
  },
  {
   "cell_type": "markdown",
   "metadata": {},
   "source": [
    "# or"
   ]
  },
  {
   "cell_type": "markdown",
   "metadata": {},
   "source": [
    "# 2011-2015 Period"
   ]
  },
  {
   "cell_type": "code",
   "execution_count": null,
   "metadata": {},
   "outputs": [],
   "source": [
    "Abstracts = []\n",
    "\n",
    "Filter = IT[(IT['Year'] > 2010) & (IT['Year'] < 2016)]\n",
    "\n",
    "for i in range (0,len(Filter)):\n",
    "    Abstracts.append(Filter['Abstract'].iloc[i])\n",
    "    \n",
    "print(len(Abstracts), \"Abstracts from 2011-2015 Period have been listed\")"
   ]
  },
  {
   "cell_type": "markdown",
   "metadata": {},
   "source": [
    "# or"
   ]
  },
  {
   "cell_type": "markdown",
   "metadata": {},
   "source": [
    "# 2016-2020 Period"
   ]
  },
  {
   "cell_type": "code",
   "execution_count": null,
   "metadata": {},
   "outputs": [],
   "source": [
    "Abstracts = []\n",
    "\n",
    "Filter = IT[(IT['Year'] > 2015) & (IT['Year'] < 2021)]\n",
    "\n",
    "for i in range (0,len(Filter)):\n",
    "    Abstracts.append(Filter['Abstract'].iloc[i])\n",
    "    \n",
    "print(len(Abstracts), \"Abstracts from 2016-2020 Period have been listed\")"
   ]
  },
  {
   "cell_type": "markdown",
   "metadata": {},
   "source": [
    "# OR"
   ]
  },
  {
   "cell_type": "markdown",
   "metadata": {},
   "source": [
    "# 10 years analysis"
   ]
  },
  {
   "cell_type": "markdown",
   "metadata": {},
   "source": [
    "# 1985-1995 Period"
   ]
  },
  {
   "cell_type": "code",
   "execution_count": null,
   "metadata": {},
   "outputs": [],
   "source": [
    "Abstracts = []\n",
    "\n",
    "Filter = IT[IT['Year']<1996]\n",
    "\n",
    "for i in range (0,len(Filter)):\n",
    "    Abstracts.append(Filter['Abstract'].iloc[i])\n",
    "print(len(Abstracts), \"Abstracts from 1985-1995 Period have been listed\")"
   ]
  },
  {
   "cell_type": "markdown",
   "metadata": {},
   "source": [
    "# 1996-2005 Period"
   ]
  },
  {
   "cell_type": "code",
   "execution_count": null,
   "metadata": {},
   "outputs": [],
   "source": [
    "Abstracts = []\n",
    "\n",
    "Filter = IT[(IT['Year']> 1995) & (IT['Year'] < 2006)]\n",
    "\n",
    "for i in range (0,len(Filter)):\n",
    "    Abstracts.append(Filter['Abstract'].iloc[i])\n",
    "print(len(Abstracts), \"Abstracts from 1987-2000 Period have been listed\")"
   ]
  },
  {
   "cell_type": "markdown",
   "metadata": {},
   "source": [
    "# 2006-2015 Period"
   ]
  },
  {
   "cell_type": "code",
   "execution_count": null,
   "metadata": {},
   "outputs": [],
   "source": [
    "Abstracts = []\n",
    "\n",
    "Filter = IT[(IT['Year']> 2005) & (IT['Year'] < 2016)]\n",
    "\n",
    "for i in range (0,len(Filter)):\n",
    "    Abstracts.append(Filter['Abstract'].iloc[i])\n",
    "print(len(Abstracts), \"Abstracts from 1987-2000 Period have been listed\")"
   ]
  },
  {
   "cell_type": "markdown",
   "metadata": {},
   "source": [
    "# 2015 - 2020 Period"
   ]
  },
  {
   "cell_type": "code",
   "execution_count": null,
   "metadata": {},
   "outputs": [],
   "source": [
    "Abstracts = []\n",
    "\n",
    "Filter = IT[IT['Year']> 2014]\n",
    "\n",
    "for i in range (0,len(Filter)):\n",
    "    Abstracts.append(Filter['Abstract'].iloc[i])\n",
    "print(len(Abstracts), \"Abstracts from 1987-2000 Period have been listed\")"
   ]
  },
  {
   "cell_type": "markdown",
   "metadata": {},
   "source": [
    "# START ANALYSIS"
   ]
  },
  {
   "cell_type": "markdown",
   "metadata": {},
   "source": [
    "# Tokenize Words"
   ]
  },
  {
   "cell_type": "code",
   "execution_count": 6,
   "metadata": {},
   "outputs": [
    {
     "name": "stdout",
     "output_type": "stream",
     "text": [
      "11658986  Words of Abstracts have been tokenized\n"
     ]
    }
   ],
   "source": [
    "from nltk.tokenize import word_tokenize\n",
    "Abstracts_Tokenized = word_tokenize(str(Abstracts))\n",
    "Abstracts_Tokenized.sort() #sort for efficiency\n",
    "print(len(Abstracts_Tokenized), \" Words of Abstracts have been tokenized\")"
   ]
  },
  {
   "cell_type": "markdown",
   "metadata": {},
   "source": [
    "# Remove Punctuations"
   ]
  },
  {
   "cell_type": "code",
   "execution_count": 7,
   "metadata": {},
   "outputs": [],
   "source": [
    "import string\n",
    "Singlelist = \" \".join(Abstracts_Tokenized)\n",
    "Nopunctuation = [k for k in Singlelist if k not in string.punctuation]\n",
    "Words_NoPunc = \"\".join(Nopunctuation)"
   ]
  },
  {
   "cell_type": "markdown",
   "metadata": {},
   "source": [
    "# Remove Numbers"
   ]
  },
  {
   "cell_type": "code",
   "execution_count": 8,
   "metadata": {},
   "outputs": [],
   "source": [
    "Words_NoNumber = ''.join(c for c in Words_NoPunc if not c.isdigit())\n",
    "Result_Words = Words_NoNumber.split()"
   ]
  },
  {
   "cell_type": "markdown",
   "metadata": {},
   "source": [
    "# Remove Stopwords"
   ]
  },
  {
   "cell_type": "code",
   "execution_count": 9,
   "metadata": {},
   "outputs": [
    {
     "name": "stdout",
     "output_type": "stream",
     "text": [
      "4473722  stopwords, punctuations, numbers have been erased from data.\n",
      "We have 7185264 words now.\n",
      "\n",
      "STOPWORDS:\n",
      " ['i', 'me', 'my', 'myself', 'we', 'our', 'ours', 'ourselves', 'you', \"you're\", \"you've\", \"you'll\", \"you'd\", 'your', 'yours', 'yourself', 'yourselves', 'he', 'him', 'his', 'himself', 'she', \"she's\", 'her', 'hers', 'herself', 'it', \"it's\", 'its', 'itself', 'they', 'them', 'their', 'theirs', 'themselves', 'what', 'which', 'who', 'whom', 'this', 'that', \"that'll\", 'these', 'those', 'am', 'is', 'are', 'was', 'were', 'be', 'been', 'being', 'have', 'has', 'had', 'having', 'do', 'does', 'did', 'doing', 'a', 'an', 'the', 'and', 'but', 'if', 'or', 'because', 'as', 'until', 'while', 'of', 'at', 'by', 'for', 'with', 'about', 'against', 'between', 'into', 'through', 'during', 'before', 'after', 'above', 'below', 'to', 'from', 'up', 'down', 'in', 'out', 'on', 'off', 'over', 'under', 'again', 'further', 'then', 'once', 'here', 'there', 'when', 'where', 'why', 'how', 'all', 'any', 'both', 'each', 'few', 'more', 'most', 'other', 'some', 'such', 'no', 'nor', 'not', 'only', 'own', 'same', 'so', 'than', 'too', 'very', 's', 't', 'can', 'will', 'just', 'don', \"don't\", 'should', \"should've\", 'now', 'd', 'll', 'm', 'o', 're', 've', 'y', 'ain', 'aren', \"aren't\", 'couldn', \"couldn't\", 'didn', \"didn't\", 'doesn', \"doesn't\", 'hadn', \"hadn't\", 'hasn', \"hasn't\", 'haven', \"haven't\", 'isn', \"isn't\", 'ma', 'mightn', \"mightn't\", 'mustn', \"mustn't\", 'needn', \"needn't\", 'shan', \"shan't\", 'shouldn', \"shouldn't\", 'wasn', \"wasn't\", 'weren', \"weren't\", 'won', \"won't\", 'wouldn', \"wouldn't\"]\n"
     ]
    }
   ],
   "source": [
    "from nltk.corpus import stopwords  \n",
    "stop_words = set(stopwords.words('english'))\n",
    "Words_NoStop = [word for word in Result_Words if word not in stop_words]\n",
    "print(len(Abstracts_Tokenized) - len(Words_NoStop) , \" stopwords, punctuations, numbers have been erased from data.\")\n",
    "print(\"We have\", len(Words_NoStop), \"words now.\\n\" )\n",
    "\n",
    "print(\"STOPWORDS:\\n\", stopwords.words('english'))"
   ]
  },
  {
   "cell_type": "markdown",
   "metadata": {},
   "source": [
    "# Count Unique Words"
   ]
  },
  {
   "cell_type": "code",
   "execution_count": 10,
   "metadata": {},
   "outputs": [
    {
     "name": "stdout",
     "output_type": "stream",
     "text": [
      "We have 59669 uniqe words now out of 7185264 words in Abstratcs\n"
     ]
    }
   ],
   "source": [
    "from collections import Counter\n",
    "WordsDict = Counter(Words_NoStop)\n",
    "print(\"We have\", len(WordsDict),\"uniqe words now\",'out of',len(Words_NoStop), \"words in Abstratcs\")"
   ]
  },
  {
   "cell_type": "markdown",
   "metadata": {},
   "source": [
    "# Erase Common & Unrelated Words to Find Specific Words"
   ]
  },
  {
   "cell_type": "code",
   "execution_count": 11,
   "metadata": {},
   "outputs": [],
   "source": [
    "#del WordsDict[\"research\"]\n",
    "#del WordsDict[\"researcher\"]\n",
    "#del WordsDict[\"researchers\"]\n",
    "#del WordsDict[\"university\"]\n",
    "#del WordsDict[\"system\"]\n",
    "del WordsDict[\"us\"]\n",
    "del WordsDict[\"make\"]\n",
    "del WordsDict[\"might\"]\n",
    "del WordsDict[\"two\"]\n",
    "del WordsDict[\"way\"]\n",
    "del WordsDict[\"must\"]\n",
    "del WordsDict[\"put\"]\n",
    "del WordsDict[\"use\"]\n",
    "del WordsDict[\"also\"]\n",
    "del WordsDict[\"well\"]\n",
    "del WordsDict[\"this\"]\n",
    "del WordsDict[\"first\"]\n",
    "del WordsDict[\"new\"]\n",
    "#del WordsDict[\"project\"]\n",
    "del WordsDict[\"based\"]\n",
    "#del WordsDict[\"work\"]\n",
    "del WordsDict[\"many\"]\n",
    "#del WordsDict[\"provide\"]\n",
    "#del WordsDict[\"method\"]\n",
    "#del WordsDict[\"methods\"]\n",
    "del WordsDict[\"using\"]\n",
    "del WordsDict[\"including\"]\n",
    "#del WordsDict[\"program\"]\n",
    "#del WordsDict[\"model\"]\n",
    "#del WordsDict[\"models\"]\n",
    "del WordsDict[\"one\"]\n",
    "del WordsDict[\"used\"]\n",
    "del WordsDict[\"may\"]\n",
    "del WordsDict[\"pi\"]\n",
    "del WordsDict[\"the\"]\n",
    "del WordsDict[\"a\"]\n",
    "del WordsDict[\"b\"]\n",
    "del WordsDict[\"c\"]\n",
    "del WordsDict[\"d\"]\n",
    "del WordsDict[\"e\"]\n",
    "del WordsDict[\"f\"]\n",
    "del WordsDict[\"g\"]\n",
    "del WordsDict[\"u\"]\n",
    "del WordsDict[\"second\"]\n",
    "del WordsDict[\"three\"]"
   ]
  },
  {
   "cell_type": "code",
   "execution_count": 12,
   "metadata": {},
   "outputs": [
    {
     "name": "stdout",
     "output_type": "stream",
     "text": [
      "We have 59641 uniqe words now.\n"
     ]
    }
   ],
   "source": [
    "print(\"We have\", len(WordsDict), \"uniqe words now.\" )"
   ]
  },
  {
   "cell_type": "markdown",
   "metadata": {
    "scrolled": true
   },
   "source": [
    "# Create Data Frame"
   ]
  },
  {
   "cell_type": "code",
   "execution_count": 13,
   "metadata": {},
   "outputs": [],
   "source": [
    "Data_Frame = pd.DataFrame(list(WordsDict.items()), columns=['Words', 'Frequency']).sort_values(\"Frequency\", ascending=False)"
   ]
  },
  {
   "cell_type": "markdown",
   "metadata": {},
   "source": [
    "# Create iPlot Bar Chart"
   ]
  },
  {
   "cell_type": "code",
   "execution_count": 14,
   "metadata": {
    "scrolled": false
   },
   "outputs": [
    {
     "data": {
      "application/vnd.plotly.v1+json": {
       "config": {
        "linkText": "Export to plot.ly",
        "plotlyServerURL": "https://plot.ly",
        "showLink": true
       },
       "data": [
        {
         "marker": {
          "color": "rgba(255, 153, 51, 0.6)",
          "line": {
           "color": "rgba(255, 153, 51, 1.0)",
           "width": 1
          }
         },
         "name": "Frequency",
         "orientation": "v",
         "text": "",
         "type": "bar",
         "uid": "0ad7611a-3514-4cb2-80c8-faadecdbd87a",
         "x": [
          "research",
          "project",
          "system",
          "data",
          "network",
          "develop",
          "model",
          "application",
          "student",
          "design",
          "algorithm",
          "problem",
          "provide",
          "information",
          "computer",
          "software",
          "technology",
          "technique",
          "science",
          "high",
          "computational",
          "performance",
          "impact",
          "process",
          "support",
          "computing",
          "user",
          "work",
          "tool",
          "development",
          "learning",
          "approach",
          "program",
          "time",
          "analysis",
          "large",
          "methods",
          "community",
          "education",
          "result",
          "understand",
          "area",
          "goal",
          "study",
          "researchers",
          "resource",
          "environment",
          "university",
          "security",
          "proposed"
         ],
         "y": [
          87183,
          82947,
          72468,
          67068,
          53466,
          48515,
          40837,
          37630,
          36011,
          35085,
          30418,
          30047,
          29910,
          28985,
          27515,
          27491,
          24429,
          23921,
          23653,
          22552,
          22470,
          22343,
          22287,
          22181,
          22023,
          21956,
          21113,
          20687,
          20432,
          20413,
          19990,
          19820,
          19728,
          19591,
          18355,
          18310,
          18234,
          18198,
          17282,
          17178,
          15854,
          15710,
          15466,
          15360,
          15235,
          14585,
          14557,
          14433,
          13404,
          13393
         ]
        }
       ],
       "layout": {
        "legend": {
         "bgcolor": "#F5F6F9",
         "font": {
          "color": "#4D5663"
         }
        },
        "paper_bgcolor": "#F5F6F9",
        "plot_bgcolor": "#F5F6F9",
        "title": {
         "font": {
          "color": "#4D5663"
         },
         "text": "NSF-CISE AWARDED IT ABSTRACTS's FREQUENT WORDS"
        },
        "xaxis": {
         "gridcolor": "#E1E5ED",
         "showgrid": true,
         "tickfont": {
          "color": "#4D5663"
         },
         "title": {
          "font": {
           "color": "#4D5663"
          },
          "text": ""
         },
         "zerolinecolor": "#E1E5ED"
        },
        "yaxis": {
         "gridcolor": "#E1E5ED",
         "showgrid": true,
         "tickfont": {
          "color": "#4D5663"
         },
         "title": {
          "font": {
           "color": "#4D5663"
          },
          "text": ""
         },
         "zerolinecolor": "#E1E5ED"
        }
       }
      },
      "text/html": [
       "<div>\n",
       "        \n",
       "        \n",
       "            <div id=\"a81afef2-0dce-4079-9fc8-80b7833d7a5e\" class=\"plotly-graph-div\" style=\"height:525px; width:100%;\"></div>\n",
       "            <script type=\"text/javascript\">\n",
       "                require([\"plotly\"], function(Plotly) {\n",
       "                    window.PLOTLYENV=window.PLOTLYENV || {};\n",
       "                    window.PLOTLYENV.BASE_URL='https://plot.ly';\n",
       "                    \n",
       "                if (document.getElementById(\"a81afef2-0dce-4079-9fc8-80b7833d7a5e\")) {\n",
       "                    Plotly.newPlot(\n",
       "                        'a81afef2-0dce-4079-9fc8-80b7833d7a5e',\n",
       "                        [{\"marker\": {\"color\": \"rgba(255, 153, 51, 0.6)\", \"line\": {\"color\": \"rgba(255, 153, 51, 1.0)\", \"width\": 1}}, \"name\": \"Frequency\", \"orientation\": \"v\", \"text\": \"\", \"type\": \"bar\", \"uid\": \"0ad7611a-3514-4cb2-80c8-faadecdbd87a\", \"x\": [\"research\", \"project\", \"system\", \"data\", \"network\", \"develop\", \"model\", \"application\", \"student\", \"design\", \"algorithm\", \"problem\", \"provide\", \"information\", \"computer\", \"software\", \"technology\", \"technique\", \"science\", \"high\", \"computational\", \"performance\", \"impact\", \"process\", \"support\", \"computing\", \"user\", \"work\", \"tool\", \"development\", \"learning\", \"approach\", \"program\", \"time\", \"analysis\", \"large\", \"methods\", \"community\", \"education\", \"result\", \"understand\", \"area\", \"goal\", \"study\", \"researchers\", \"resource\", \"environment\", \"university\", \"security\", \"proposed\"], \"y\": [87183, 82947, 72468, 67068, 53466, 48515, 40837, 37630, 36011, 35085, 30418, 30047, 29910, 28985, 27515, 27491, 24429, 23921, 23653, 22552, 22470, 22343, 22287, 22181, 22023, 21956, 21113, 20687, 20432, 20413, 19990, 19820, 19728, 19591, 18355, 18310, 18234, 18198, 17282, 17178, 15854, 15710, 15466, 15360, 15235, 14585, 14557, 14433, 13404, 13393]}],\n",
       "                        {\"legend\": {\"bgcolor\": \"#F5F6F9\", \"font\": {\"color\": \"#4D5663\"}}, \"paper_bgcolor\": \"#F5F6F9\", \"plot_bgcolor\": \"#F5F6F9\", \"title\": {\"font\": {\"color\": \"#4D5663\"}, \"text\": \"NSF-CISE AWARDED IT ABSTRACTS's FREQUENT WORDS\"}, \"xaxis\": {\"gridcolor\": \"#E1E5ED\", \"showgrid\": true, \"tickfont\": {\"color\": \"#4D5663\"}, \"title\": {\"font\": {\"color\": \"#4D5663\"}, \"text\": \"\"}, \"zerolinecolor\": \"#E1E5ED\"}, \"yaxis\": {\"gridcolor\": \"#E1E5ED\", \"showgrid\": true, \"tickfont\": {\"color\": \"#4D5663\"}, \"title\": {\"font\": {\"color\": \"#4D5663\"}, \"text\": \"\"}, \"zerolinecolor\": \"#E1E5ED\"}},\n",
       "                        {\"showLink\": true, \"linkText\": \"Export to plot.ly\", \"plotlyServerURL\": \"https://plot.ly\", \"responsive\": true}\n",
       "                    ).then(function(){\n",
       "                            \n",
       "var gd = document.getElementById('a81afef2-0dce-4079-9fc8-80b7833d7a5e');\n",
       "var x = new MutationObserver(function (mutations, observer) {{\n",
       "        var display = window.getComputedStyle(gd).display;\n",
       "        if (!display || display === 'none') {{\n",
       "            console.log([gd, 'removed!']);\n",
       "            Plotly.purge(gd);\n",
       "            observer.disconnect();\n",
       "        }}\n",
       "}});\n",
       "\n",
       "// Listen for the removal of the full notebook cells\n",
       "var notebookContainer = gd.closest('#notebook-container');\n",
       "if (notebookContainer) {{\n",
       "    x.observe(notebookContainer, {childList: true});\n",
       "}}\n",
       "\n",
       "// Listen for the clearing of the current output cell\n",
       "var outputEl = gd.closest('.output');\n",
       "if (outputEl) {{\n",
       "    x.observe(outputEl, {childList: true});\n",
       "}}\n",
       "\n",
       "                        })\n",
       "                };\n",
       "                });\n",
       "            </script>\n",
       "        </div>"
      ]
     },
     "metadata": {},
     "output_type": "display_data"
    }
   ],
   "source": [
    "Data_Frame[:50].iplot( kind=\"bar\", x='Words', title=\"NSF-CISE AWARDED IT ABSTRACTS's FREQUENT WORDS\")"
   ]
  },
  {
   "cell_type": "markdown",
   "metadata": {},
   "source": [
    "# Save Frequency CSV file - Select one of them based on above data"
   ]
  },
  {
   "cell_type": "code",
   "execution_count": 15,
   "metadata": {},
   "outputs": [],
   "source": [
    "np.savetxt(\"Result_v1.csv\", Data_Frame, delimiter=\",\", fmt='%s', header=('w,f'))"
   ]
  },
  {
   "cell_type": "markdown",
   "metadata": {},
   "source": [
    "# Descriptive Vizualizations"
   ]
  },
  {
   "cell_type": "code",
   "execution_count": 16,
   "metadata": {},
   "outputs": [
    {
     "data": {
      "text/plain": [
       "count    4.058800e+04\n",
       "mean     4.537869e+05\n",
       "std      3.002637e+06\n",
       "min      0.000000e+00\n",
       "25%      1.049718e+05\n",
       "50%      2.620770e+05\n",
       "75%      4.500000e+05\n",
       "max      2.597357e+08\n",
       "Name: Award_Amount_$, dtype: float64"
      ]
     },
     "execution_count": 16,
     "metadata": {},
     "output_type": "execute_result"
    }
   ],
   "source": [
    "IT[IT['Year']>1986][\"Award_Amount_$\"].describe()"
   ]
  },
  {
   "cell_type": "code",
   "execution_count": 17,
   "metadata": {},
   "outputs": [
    {
     "data": {
      "text/plain": [
       "count    40588.000000\n",
       "mean      1976.300335\n",
       "std        887.962488\n",
       "min          2.000000\n",
       "25%       1395.000000\n",
       "50%       1830.000000\n",
       "75%       2456.000000\n",
       "max       8020.000000\n",
       "Name: Abstract_Length, dtype: float64"
      ]
     },
     "execution_count": 17,
     "metadata": {},
     "output_type": "execute_result"
    }
   ],
   "source": [
    "IT['Abstract_Length'] = IT['Abstract'].apply(len)\n",
    "#Creating 'Abstract_Length' column\n",
    "\n",
    "IT[IT['Year']>1986]['Abstract_Length'].describe()"
   ]
  },
  {
   "cell_type": "code",
   "execution_count": 23,
   "metadata": {},
   "outputs": [
    {
     "data": {
      "application/vnd.plotly.v1+json": {
       "config": {
        "linkText": "Export to plot.ly",
        "plotlyServerURL": "https://plot.ly",
        "showLink": true
       },
       "data": [
        {
         "line": {
          "color": "rgba(255, 153, 51, 1.0)",
          "dash": "solid",
          "shape": "linear",
          "width": 1.3
         },
         "mode": "lines",
         "name": "AwardNumber",
         "text": "",
         "type": "scatter",
         "uid": "9d8d3f58-0cd9-4719-be19-969086160ed3",
         "x": [
          1984,
          1985,
          1986,
          1987,
          1988,
          1989,
          1990,
          1991,
          1992,
          1993,
          1994,
          1995,
          1996,
          1997,
          1998,
          1999,
          2000,
          2001,
          2002,
          2003,
          2004,
          2005,
          2006,
          2007,
          2008,
          2009,
          2010,
          2011,
          2012,
          2013,
          2014,
          2015,
          2016,
          2017,
          2018,
          2019
         ],
         "y": [
          6,
          79,
          12,
          309,
          436,
          487,
          623,
          717,
          770,
          686,
          743,
          709,
          616,
          736,
          710,
          764,
          923,
          930,
          1131,
          1292,
          1098,
          1196,
          1296,
          1737,
          1515,
          1949,
          1777,
          1559,
          1772,
          1735,
          1795,
          2084,
          2082,
          2059,
          2213,
          2072
         ]
        }
       ],
       "layout": {
        "legend": {
         "bgcolor": "#F5F6F9",
         "font": {
          "color": "#4D5663"
         }
        },
        "paper_bgcolor": "#F5F6F9",
        "plot_bgcolor": "#F5F6F9",
        "title": {
         "font": {
          "color": "#4D5663"
         }
        },
        "xaxis": {
         "gridcolor": "#E1E5ED",
         "showgrid": true,
         "tickfont": {
          "color": "#4D5663"
         },
         "title": {
          "font": {
           "color": "#4D5663"
          },
          "text": ""
         },
         "zerolinecolor": "#E1E5ED"
        },
        "yaxis": {
         "gridcolor": "#E1E5ED",
         "showgrid": true,
         "tickfont": {
          "color": "#4D5663"
         },
         "title": {
          "font": {
           "color": "#4D5663"
          },
          "text": ""
         },
         "zerolinecolor": "#E1E5ED"
        }
       }
      },
      "text/html": [
       "<div>\n",
       "        \n",
       "        \n",
       "            <div id=\"8e9300e2-af8a-4afb-ad1e-d1e6a8e0b43d\" class=\"plotly-graph-div\" style=\"height:525px; width:100%;\"></div>\n",
       "            <script type=\"text/javascript\">\n",
       "                require([\"plotly\"], function(Plotly) {\n",
       "                    window.PLOTLYENV=window.PLOTLYENV || {};\n",
       "                    window.PLOTLYENV.BASE_URL='https://plot.ly';\n",
       "                    \n",
       "                if (document.getElementById(\"8e9300e2-af8a-4afb-ad1e-d1e6a8e0b43d\")) {\n",
       "                    Plotly.newPlot(\n",
       "                        '8e9300e2-af8a-4afb-ad1e-d1e6a8e0b43d',\n",
       "                        [{\"line\": {\"color\": \"rgba(255, 153, 51, 1.0)\", \"dash\": \"solid\", \"shape\": \"linear\", \"width\": 1.3}, \"mode\": \"lines\", \"name\": \"AwardNumber\", \"text\": \"\", \"type\": \"scatter\", \"uid\": \"9d8d3f58-0cd9-4719-be19-969086160ed3\", \"x\": [1984, 1985, 1986, 1987, 1988, 1989, 1990, 1991, 1992, 1993, 1994, 1995, 1996, 1997, 1998, 1999, 2000, 2001, 2002, 2003, 2004, 2005, 2006, 2007, 2008, 2009, 2010, 2011, 2012, 2013, 2014, 2015, 2016, 2017, 2018, 2019], \"y\": [6, 79, 12, 309, 436, 487, 623, 717, 770, 686, 743, 709, 616, 736, 710, 764, 923, 930, 1131, 1292, 1098, 1196, 1296, 1737, 1515, 1949, 1777, 1559, 1772, 1735, 1795, 2084, 2082, 2059, 2213, 2072]}],\n",
       "                        {\"legend\": {\"bgcolor\": \"#F5F6F9\", \"font\": {\"color\": \"#4D5663\"}}, \"paper_bgcolor\": \"#F5F6F9\", \"plot_bgcolor\": \"#F5F6F9\", \"title\": {\"font\": {\"color\": \"#4D5663\"}}, \"xaxis\": {\"gridcolor\": \"#E1E5ED\", \"showgrid\": true, \"tickfont\": {\"color\": \"#4D5663\"}, \"title\": {\"font\": {\"color\": \"#4D5663\"}, \"text\": \"\"}, \"zerolinecolor\": \"#E1E5ED\"}, \"yaxis\": {\"gridcolor\": \"#E1E5ED\", \"showgrid\": true, \"tickfont\": {\"color\": \"#4D5663\"}, \"title\": {\"font\": {\"color\": \"#4D5663\"}, \"text\": \"\"}, \"zerolinecolor\": \"#E1E5ED\"}},\n",
       "                        {\"showLink\": true, \"linkText\": \"Export to plot.ly\", \"plotlyServerURL\": \"https://plot.ly\", \"responsive\": true}\n",
       "                    ).then(function(){\n",
       "                            \n",
       "var gd = document.getElementById('8e9300e2-af8a-4afb-ad1e-d1e6a8e0b43d');\n",
       "var x = new MutationObserver(function (mutations, observer) {{\n",
       "        var display = window.getComputedStyle(gd).display;\n",
       "        if (!display || display === 'none') {{\n",
       "            console.log([gd, 'removed!']);\n",
       "            Plotly.purge(gd);\n",
       "            observer.disconnect();\n",
       "        }}\n",
       "}});\n",
       "\n",
       "// Listen for the removal of the full notebook cells\n",
       "var notebookContainer = gd.closest('#notebook-container');\n",
       "if (notebookContainer) {{\n",
       "    x.observe(notebookContainer, {childList: true});\n",
       "}}\n",
       "\n",
       "// Listen for the clearing of the current output cell\n",
       "var outputEl = gd.closest('.output');\n",
       "if (outputEl) {{\n",
       "    x.observe(outputEl, {childList: true});\n",
       "}}\n",
       "\n",
       "                        })\n",
       "                };\n",
       "                });\n",
       "            </script>\n",
       "        </div>"
      ]
     },
     "metadata": {},
     "output_type": "display_data"
    }
   ],
   "source": [
    "#Number of Awards by Year\n",
    "\n",
    "IT[IT['Year']<2020].groupby('Year').count()[\"AwardNumber\"].iplot()"
   ]
  },
  {
   "cell_type": "code",
   "execution_count": 19,
   "metadata": {},
   "outputs": [
    {
     "data": {
      "application/vnd.plotly.v1+json": {
       "config": {
        "linkText": "Export to plot.ly",
        "plotlyServerURL": "https://plot.ly",
        "showLink": true
       },
       "data": [
        {
         "line": {
          "color": "rgba(255, 153, 51, 1.0)",
          "dash": "solid",
          "shape": "linear",
          "width": 1.3
         },
         "mode": "lines",
         "name": "Award_Amount_$",
         "text": "",
         "type": "scatter",
         "uid": "1c38c650-5865-44bf-bda6-78ac710ce8bb",
         "x": [
          1984,
          1985,
          1986,
          1987,
          1988,
          1989,
          1990,
          1991,
          1992,
          1993,
          1994,
          1995,
          1996,
          1997,
          1998,
          1999,
          2000,
          2001,
          2002,
          2003,
          2004,
          2005,
          2006,
          2007,
          2008,
          2009,
          2010,
          2011,
          2012,
          2013,
          2014,
          2015,
          2016,
          2017,
          2018,
          2019
         ],
         "y": [
          1193763,
          13125415,
          4436109,
          123770653,
          77805506,
          246304838,
          475581801,
          154513073,
          210005312,
          156223639,
          191267936,
          223588135,
          141227186,
          730771121,
          223632422,
          295065089,
          519915796,
          508055183,
          552453989,
          674681430,
          463382958,
          811685014,
          478747587,
          846382894,
          550212455,
          922849873,
          922017670,
          817503703,
          770568611,
          1021469237,
          799258708,
          902994735,
          979342244,
          839928967,
          911477565,
          853267690
         ]
        }
       ],
       "layout": {
        "legend": {
         "bgcolor": "#F5F6F9",
         "font": {
          "color": "#4D5663"
         }
        },
        "paper_bgcolor": "#F5F6F9",
        "plot_bgcolor": "#F5F6F9",
        "title": {
         "font": {
          "color": "#4D5663"
         }
        },
        "xaxis": {
         "gridcolor": "#E1E5ED",
         "showgrid": true,
         "tickfont": {
          "color": "#4D5663"
         },
         "title": {
          "font": {
           "color": "#4D5663"
          },
          "text": ""
         },
         "zerolinecolor": "#E1E5ED"
        },
        "yaxis": {
         "gridcolor": "#E1E5ED",
         "showgrid": true,
         "tickfont": {
          "color": "#4D5663"
         },
         "title": {
          "font": {
           "color": "#4D5663"
          },
          "text": ""
         },
         "zerolinecolor": "#E1E5ED"
        }
       }
      },
      "text/html": [
       "<div>\n",
       "        \n",
       "        \n",
       "            <div id=\"c37a4474-7dd6-4577-a181-ecc5ae2e8434\" class=\"plotly-graph-div\" style=\"height:525px; width:100%;\"></div>\n",
       "            <script type=\"text/javascript\">\n",
       "                require([\"plotly\"], function(Plotly) {\n",
       "                    window.PLOTLYENV=window.PLOTLYENV || {};\n",
       "                    window.PLOTLYENV.BASE_URL='https://plot.ly';\n",
       "                    \n",
       "                if (document.getElementById(\"c37a4474-7dd6-4577-a181-ecc5ae2e8434\")) {\n",
       "                    Plotly.newPlot(\n",
       "                        'c37a4474-7dd6-4577-a181-ecc5ae2e8434',\n",
       "                        [{\"line\": {\"color\": \"rgba(255, 153, 51, 1.0)\", \"dash\": \"solid\", \"shape\": \"linear\", \"width\": 1.3}, \"mode\": \"lines\", \"name\": \"Award_Amount_$\", \"text\": \"\", \"type\": \"scatter\", \"uid\": \"1c38c650-5865-44bf-bda6-78ac710ce8bb\", \"x\": [1984, 1985, 1986, 1987, 1988, 1989, 1990, 1991, 1992, 1993, 1994, 1995, 1996, 1997, 1998, 1999, 2000, 2001, 2002, 2003, 2004, 2005, 2006, 2007, 2008, 2009, 2010, 2011, 2012, 2013, 2014, 2015, 2016, 2017, 2018, 2019], \"y\": [1193763, 13125415, 4436109, 123770653, 77805506, 246304838, 475581801, 154513073, 210005312, 156223639, 191267936, 223588135, 141227186, 730771121, 223632422, 295065089, 519915796, 508055183, 552453989, 674681430, 463382958, 811685014, 478747587, 846382894, 550212455, 922849873, 922017670, 817503703, 770568611, 1021469237, 799258708, 902994735, 979342244, 839928967, 911477565, 853267690]}],\n",
       "                        {\"legend\": {\"bgcolor\": \"#F5F6F9\", \"font\": {\"color\": \"#4D5663\"}}, \"paper_bgcolor\": \"#F5F6F9\", \"plot_bgcolor\": \"#F5F6F9\", \"title\": {\"font\": {\"color\": \"#4D5663\"}}, \"xaxis\": {\"gridcolor\": \"#E1E5ED\", \"showgrid\": true, \"tickfont\": {\"color\": \"#4D5663\"}, \"title\": {\"font\": {\"color\": \"#4D5663\"}, \"text\": \"\"}, \"zerolinecolor\": \"#E1E5ED\"}, \"yaxis\": {\"gridcolor\": \"#E1E5ED\", \"showgrid\": true, \"tickfont\": {\"color\": \"#4D5663\"}, \"title\": {\"font\": {\"color\": \"#4D5663\"}, \"text\": \"\"}, \"zerolinecolor\": \"#E1E5ED\"}},\n",
       "                        {\"showLink\": true, \"linkText\": \"Export to plot.ly\", \"plotlyServerURL\": \"https://plot.ly\", \"responsive\": true}\n",
       "                    ).then(function(){\n",
       "                            \n",
       "var gd = document.getElementById('c37a4474-7dd6-4577-a181-ecc5ae2e8434');\n",
       "var x = new MutationObserver(function (mutations, observer) {{\n",
       "        var display = window.getComputedStyle(gd).display;\n",
       "        if (!display || display === 'none') {{\n",
       "            console.log([gd, 'removed!']);\n",
       "            Plotly.purge(gd);\n",
       "            observer.disconnect();\n",
       "        }}\n",
       "}});\n",
       "\n",
       "// Listen for the removal of the full notebook cells\n",
       "var notebookContainer = gd.closest('#notebook-container');\n",
       "if (notebookContainer) {{\n",
       "    x.observe(notebookContainer, {childList: true});\n",
       "}}\n",
       "\n",
       "// Listen for the clearing of the current output cell\n",
       "var outputEl = gd.closest('.output');\n",
       "if (outputEl) {{\n",
       "    x.observe(outputEl, {childList: true});\n",
       "}}\n",
       "\n",
       "                        })\n",
       "                };\n",
       "                });\n",
       "            </script>\n",
       "        </div>"
      ]
     },
     "metadata": {},
     "output_type": "display_data"
    }
   ],
   "source": [
    "#Sum Amount of Awards by Year\n",
    "\n",
    "IT.groupby('Year').sum()[\"Award_Amount_$\"][:-1].iplot()"
   ]
  },
  {
   "cell_type": "code",
   "execution_count": 20,
   "metadata": {},
   "outputs": [
    {
     "data": {
      "application/vnd.plotly.v1+json": {
       "config": {
        "linkText": "Export to plot.ly",
        "plotlyServerURL": "https://plot.ly",
        "showLink": true
       },
       "data": [
        {
         "marker": {
          "color": "rgba(255, 153, 51, 0.6)",
          "line": {
           "color": "rgba(255, 153, 51, 1.0)",
           "width": 1
          }
         },
         "name": "Award_Amount_$",
         "orientation": "v",
         "text": "",
         "type": "bar",
         "uid": "2ec68b03-36b1-4c3a-b3a8-3a7e425dff9f",
         "x": [
          "CA",
          "IL",
          "PA",
          "NY",
          "MA",
          "TX",
          "IN",
          "NJ",
          "VA",
          "MI",
          "NC",
          "MD",
          "GA",
          "FL",
          "WA",
          "CO",
          "TN",
          "WI",
          "UT",
          "DC",
          "AZ",
          "OH",
          "MN",
          "OR",
          "CT",
          "NM",
          "MO",
          "IA",
          "RI",
          "SC",
          "LA",
          "AL",
          "DE",
          "NE",
          "KY",
          "KS",
          "NH",
          "HI",
          "OK",
          "MS",
          "AR",
          "PR",
          "WV",
          "ME",
          "NV",
          "ID",
          "ND",
          "SD",
          "MT",
          "VT",
          "WY",
          "AK",
          "in",
          "FM",
          "Mi"
         ],
         "y": [
          3063523213,
          2160223576,
          1471350057,
          1355342254,
          1349529221,
          1200629399,
          628211824,
          525204158,
          517966280,
          504559496,
          497239140,
          434640171,
          403672321,
          352242553,
          327332263,
          302317240,
          298989023,
          254170351,
          245854774,
          237632664,
          235491719,
          234509729,
          199146622,
          185139309,
          136708308,
          131352358,
          129975267,
          125093694,
          115044177,
          87289620,
          69412919,
          62927737,
          58586007,
          56744054,
          55736285,
          52452968,
          51656708,
          41933872,
          37880826,
          32912608,
          28327595,
          22949903,
          22904937,
          21783410,
          20531329,
          17669863,
          16863871,
          13757856,
          13254760,
          11921071,
          8192486,
          7800733,
          350000,
          99940,
          25000
         ]
        }
       ],
       "layout": {
        "legend": {
         "bgcolor": "#F5F6F9",
         "font": {
          "color": "#4D5663"
         }
        },
        "paper_bgcolor": "#F5F6F9",
        "plot_bgcolor": "#F5F6F9",
        "title": {
         "font": {
          "color": "#4D5663"
         }
        },
        "xaxis": {
         "gridcolor": "#E1E5ED",
         "showgrid": true,
         "tickfont": {
          "color": "#4D5663"
         },
         "title": {
          "font": {
           "color": "#4D5663"
          },
          "text": ""
         },
         "zerolinecolor": "#E1E5ED"
        },
        "yaxis": {
         "gridcolor": "#E1E5ED",
         "showgrid": true,
         "tickfont": {
          "color": "#4D5663"
         },
         "title": {
          "font": {
           "color": "#4D5663"
          },
          "text": ""
         },
         "zerolinecolor": "#E1E5ED"
        }
       }
      },
      "text/html": [
       "<div>\n",
       "        \n",
       "        \n",
       "            <div id=\"e825ed57-9fee-4996-b50e-3368575a1306\" class=\"plotly-graph-div\" style=\"height:525px; width:100%;\"></div>\n",
       "            <script type=\"text/javascript\">\n",
       "                require([\"plotly\"], function(Plotly) {\n",
       "                    window.PLOTLYENV=window.PLOTLYENV || {};\n",
       "                    window.PLOTLYENV.BASE_URL='https://plot.ly';\n",
       "                    \n",
       "                if (document.getElementById(\"e825ed57-9fee-4996-b50e-3368575a1306\")) {\n",
       "                    Plotly.newPlot(\n",
       "                        'e825ed57-9fee-4996-b50e-3368575a1306',\n",
       "                        [{\"marker\": {\"color\": \"rgba(255, 153, 51, 0.6)\", \"line\": {\"color\": \"rgba(255, 153, 51, 1.0)\", \"width\": 1}}, \"name\": \"Award_Amount_$\", \"orientation\": \"v\", \"text\": \"\", \"type\": \"bar\", \"uid\": \"2ec68b03-36b1-4c3a-b3a8-3a7e425dff9f\", \"x\": [\"CA\", \"IL\", \"PA\", \"NY\", \"MA\", \"TX\", \"IN\", \"NJ\", \"VA\", \"MI\", \"NC\", \"MD\", \"GA\", \"FL\", \"WA\", \"CO\", \"TN\", \"WI\", \"UT\", \"DC\", \"AZ\", \"OH\", \"MN\", \"OR\", \"CT\", \"NM\", \"MO\", \"IA\", \"RI\", \"SC\", \"LA\", \"AL\", \"DE\", \"NE\", \"KY\", \"KS\", \"NH\", \"HI\", \"OK\", \"MS\", \"AR\", \"PR\", \"WV\", \"ME\", \"NV\", \"ID\", \"ND\", \"SD\", \"MT\", \"VT\", \"WY\", \"AK\", \"in\", \"FM\", \"Mi\"], \"y\": [3063523213, 2160223576, 1471350057, 1355342254, 1349529221, 1200629399, 628211824, 525204158, 517966280, 504559496, 497239140, 434640171, 403672321, 352242553, 327332263, 302317240, 298989023, 254170351, 245854774, 237632664, 235491719, 234509729, 199146622, 185139309, 136708308, 131352358, 129975267, 125093694, 115044177, 87289620, 69412919, 62927737, 58586007, 56744054, 55736285, 52452968, 51656708, 41933872, 37880826, 32912608, 28327595, 22949903, 22904937, 21783410, 20531329, 17669863, 16863871, 13757856, 13254760, 11921071, 8192486, 7800733, 350000, 99940, 25000]}],\n",
       "                        {\"legend\": {\"bgcolor\": \"#F5F6F9\", \"font\": {\"color\": \"#4D5663\"}}, \"paper_bgcolor\": \"#F5F6F9\", \"plot_bgcolor\": \"#F5F6F9\", \"title\": {\"font\": {\"color\": \"#4D5663\"}}, \"xaxis\": {\"gridcolor\": \"#E1E5ED\", \"showgrid\": true, \"tickfont\": {\"color\": \"#4D5663\"}, \"title\": {\"font\": {\"color\": \"#4D5663\"}, \"text\": \"\"}, \"zerolinecolor\": \"#E1E5ED\"}, \"yaxis\": {\"gridcolor\": \"#E1E5ED\", \"showgrid\": true, \"tickfont\": {\"color\": \"#4D5663\"}, \"title\": {\"font\": {\"color\": \"#4D5663\"}, \"text\": \"\"}, \"zerolinecolor\": \"#E1E5ED\"}},\n",
       "                        {\"showLink\": true, \"linkText\": \"Export to plot.ly\", \"plotlyServerURL\": \"https://plot.ly\", \"responsive\": true}\n",
       "                    ).then(function(){\n",
       "                            \n",
       "var gd = document.getElementById('e825ed57-9fee-4996-b50e-3368575a1306');\n",
       "var x = new MutationObserver(function (mutations, observer) {{\n",
       "        var display = window.getComputedStyle(gd).display;\n",
       "        if (!display || display === 'none') {{\n",
       "            console.log([gd, 'removed!']);\n",
       "            Plotly.purge(gd);\n",
       "            observer.disconnect();\n",
       "        }}\n",
       "}});\n",
       "\n",
       "// Listen for the removal of the full notebook cells\n",
       "var notebookContainer = gd.closest('#notebook-container');\n",
       "if (notebookContainer) {{\n",
       "    x.observe(notebookContainer, {childList: true});\n",
       "}}\n",
       "\n",
       "// Listen for the clearing of the current output cell\n",
       "var outputEl = gd.closest('.output');\n",
       "if (outputEl) {{\n",
       "    x.observe(outputEl, {childList: true});\n",
       "}}\n",
       "\n",
       "                        })\n",
       "                };\n",
       "                });\n",
       "            </script>\n",
       "        </div>"
      ]
     },
     "metadata": {},
     "output_type": "display_data"
    }
   ],
   "source": [
    "#Sum Amount of Awards by State since 1987\n",
    "\n",
    "IT.groupby('State').sum().sort_values(\"Award_Amount_$\", ascending=False)[\"Award_Amount_$\"].iplot(kind=\"bar\")"
   ]
  },
  {
   "cell_type": "code",
   "execution_count": 21,
   "metadata": {},
   "outputs": [
    {
     "data": {
      "text/plain": [
       "<matplotlib.axes._subplots.AxesSubplot at 0x1f3a5932080>"
      ]
     },
     "execution_count": 21,
     "metadata": {},
     "output_type": "execute_result"
    },
    {
     "data": {
      "image/png": "[encoded data removed]",
      "text/plain": [
       "<Figure size 1440x720 with 1 Axes>"
      ]
     },
     "metadata": {
      "needs_background": "light"
     },
     "output_type": "display_data"
    }
   ],
   "source": [
    "#Distribution of 'Abstract_Length'\n",
    "\n",
    "plt.figure(figsize=(20,10))\n",
    "sns.distplot(IT['Abstract_Length'])"
   ]
  },
  {
   "cell_type": "code",
   "execution_count": 22,
   "metadata": {},
   "outputs": [
    {
     "data": {
      "application/vnd.plotly.v1+json": {
       "config": {
        "linkText": "Export to plot.ly",
        "plotlyServerURL": "https://plot.ly",
        "showLink": true
       },
       "data": [
        {
         "line": {
          "color": "rgba(255, 153, 51, 1.0)",
          "dash": "solid",
          "shape": "linear",
          "width": 1.3
         },
         "mode": "lines",
         "name": "Abstract_Length",
         "text": "",
         "type": "scatter",
         "uid": "da018829-3402-4b03-8b4f-94abcbb293d4",
         "x": [
          1984,
          1985,
          1986,
          1987,
          1988,
          1989,
          1990,
          1991,
          1992,
          1993,
          1994,
          1995,
          1996,
          1997,
          1998,
          1999,
          2000,
          2001,
          2002,
          2003,
          2004,
          2005,
          2006,
          2007,
          2008,
          2009,
          2010,
          2011,
          2012,
          2013,
          2014,
          2015,
          2016,
          2017,
          2018,
          2019,
          2020
         ],
         "y": [
          970.5,
          939.5443037974684,
          646,
          1522.2265372168285,
          1230.8188073394494,
          1265.7597535934292,
          1219.577849117175,
          1289.370990237099,
          1286.409090909091,
          1172.7798833819243,
          1160.5558546433379,
          1262.345557122708,
          1309.9967532467533,
          1378.8179347826087,
          1386.2098591549295,
          1575.6884816753927,
          1672.557963163597,
          1671.8645161290322,
          1736.972590627763,
          1982.9109907120744,
          1946.332422586521,
          2022.7683946488294,
          1949.8688271604938,
          1970.153713298791,
          1904.6798679867986,
          1946.118522319138,
          2003.2121553179516,
          2119.368184733804,
          2113.357223476298,
          2107.921613832853,
          2240.4701949860723,
          2360.5595009596927,
          2393.648414985591,
          2396.2287518212725,
          2563.220967013104,
          2679.992277992278,
          2766.776119402985
         ]
        }
       ],
       "layout": {
        "legend": {
         "bgcolor": "#F5F6F9",
         "font": {
          "color": "#4D5663"
         }
        },
        "paper_bgcolor": "#F5F6F9",
        "plot_bgcolor": "#F5F6F9",
        "title": {
         "font": {
          "color": "#4D5663"
         }
        },
        "xaxis": {
         "gridcolor": "#E1E5ED",
         "showgrid": true,
         "tickfont": {
          "color": "#4D5663"
         },
         "title": {
          "font": {
           "color": "#4D5663"
          },
          "text": ""
         },
         "zerolinecolor": "#E1E5ED"
        },
        "yaxis": {
         "gridcolor": "#E1E5ED",
         "showgrid": true,
         "tickfont": {
          "color": "#4D5663"
         },
         "title": {
          "font": {
           "color": "#4D5663"
          },
          "text": ""
         },
         "zerolinecolor": "#E1E5ED"
        }
       }
      },
      "text/html": [
       "<div>\n",
       "        \n",
       "        \n",
       "            <div id=\"ce87c906-362d-4c88-bc82-805ef564b162\" class=\"plotly-graph-div\" style=\"height:525px; width:100%;\"></div>\n",
       "            <script type=\"text/javascript\">\n",
       "                require([\"plotly\"], function(Plotly) {\n",
       "                    window.PLOTLYENV=window.PLOTLYENV || {};\n",
       "                    window.PLOTLYENV.BASE_URL='https://plot.ly';\n",
       "                    \n",
       "                if (document.getElementById(\"ce87c906-362d-4c88-bc82-805ef564b162\")) {\n",
       "                    Plotly.newPlot(\n",
       "                        'ce87c906-362d-4c88-bc82-805ef564b162',\n",
       "                        [{\"line\": {\"color\": \"rgba(255, 153, 51, 1.0)\", \"dash\": \"solid\", \"shape\": \"linear\", \"width\": 1.3}, \"mode\": \"lines\", \"name\": \"Abstract_Length\", \"text\": \"\", \"type\": \"scatter\", \"uid\": \"da018829-3402-4b03-8b4f-94abcbb293d4\", \"x\": [1984, 1985, 1986, 1987, 1988, 1989, 1990, 1991, 1992, 1993, 1994, 1995, 1996, 1997, 1998, 1999, 2000, 2001, 2002, 2003, 2004, 2005, 2006, 2007, 2008, 2009, 2010, 2011, 2012, 2013, 2014, 2015, 2016, 2017, 2018, 2019, 2020], \"y\": [970.5, 939.5443037974684, 646.0, 1522.2265372168285, 1230.8188073394494, 1265.7597535934292, 1219.577849117175, 1289.370990237099, 1286.409090909091, 1172.7798833819243, 1160.5558546433379, 1262.345557122708, 1309.9967532467533, 1378.8179347826087, 1386.2098591549295, 1575.6884816753927, 1672.557963163597, 1671.8645161290322, 1736.972590627763, 1982.9109907120744, 1946.332422586521, 2022.7683946488294, 1949.8688271604938, 1970.153713298791, 1904.6798679867986, 1946.118522319138, 2003.2121553179516, 2119.368184733804, 2113.357223476298, 2107.921613832853, 2240.4701949860723, 2360.5595009596927, 2393.648414985591, 2396.2287518212725, 2563.220967013104, 2679.992277992278, 2766.776119402985]}],\n",
       "                        {\"legend\": {\"bgcolor\": \"#F5F6F9\", \"font\": {\"color\": \"#4D5663\"}}, \"paper_bgcolor\": \"#F5F6F9\", \"plot_bgcolor\": \"#F5F6F9\", \"title\": {\"font\": {\"color\": \"#4D5663\"}}, \"xaxis\": {\"gridcolor\": \"#E1E5ED\", \"showgrid\": true, \"tickfont\": {\"color\": \"#4D5663\"}, \"title\": {\"font\": {\"color\": \"#4D5663\"}, \"text\": \"\"}, \"zerolinecolor\": \"#E1E5ED\"}, \"yaxis\": {\"gridcolor\": \"#E1E5ED\", \"showgrid\": true, \"tickfont\": {\"color\": \"#4D5663\"}, \"title\": {\"font\": {\"color\": \"#4D5663\"}, \"text\": \"\"}, \"zerolinecolor\": \"#E1E5ED\"}},\n",
       "                        {\"showLink\": true, \"linkText\": \"Export to plot.ly\", \"plotlyServerURL\": \"https://plot.ly\", \"responsive\": true}\n",
       "                    ).then(function(){\n",
       "                            \n",
       "var gd = document.getElementById('ce87c906-362d-4c88-bc82-805ef564b162');\n",
       "var x = new MutationObserver(function (mutations, observer) {{\n",
       "        var display = window.getComputedStyle(gd).display;\n",
       "        if (!display || display === 'none') {{\n",
       "            console.log([gd, 'removed!']);\n",
       "            Plotly.purge(gd);\n",
       "            observer.disconnect();\n",
       "        }}\n",
       "}});\n",
       "\n",
       "// Listen for the removal of the full notebook cells\n",
       "var notebookContainer = gd.closest('#notebook-container');\n",
       "if (notebookContainer) {{\n",
       "    x.observe(notebookContainer, {childList: true});\n",
       "}}\n",
       "\n",
       "// Listen for the clearing of the current output cell\n",
       "var outputEl = gd.closest('.output');\n",
       "if (outputEl) {{\n",
       "    x.observe(outputEl, {childList: true});\n",
       "}}\n",
       "\n",
       "                        })\n",
       "                };\n",
       "                });\n",
       "            </script>\n",
       "        </div>"
      ]
     },
     "metadata": {},
     "output_type": "display_data"
    }
   ],
   "source": [
    "#Mean of Abstract_Length by Year since 1987\n",
    "\n",
    "IT.groupby('Year').mean()['Abstract_Length'].iplot()"
   ]
  }
 ],
 "metadata": {
  "kernelspec": {
   "display_name": "Python 3",
   "language": "python",
   "name": "python3"
  },
  "language_info": {
   "codemirror_mode": {
    "name": "ipython",
    "version": 3
   },
   "file_extension": ".py",
   "mimetype": "text/x-python",
   "name": "python",
   "nbconvert_exporter": "python",
   "pygments_lexer": "ipython3",
   "version": "3.7.3"
  }
 },
 "nbformat": 4,
 "nbformat_minor": 2
}
